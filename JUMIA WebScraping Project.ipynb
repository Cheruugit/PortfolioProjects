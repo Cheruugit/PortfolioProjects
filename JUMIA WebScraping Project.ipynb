{
 "cells": [
  {
   "cell_type": "code",
   "execution_count": 8,
   "id": "55a6ded4",
   "metadata": {},
   "outputs": [],
   "source": [
    "from bs4 import BeautifulSoup\n",
    "import requests\n",
    "import time \n",
    "import datetime\n",
    "import smtplib\n"
   ]
  },
  {
   "cell_type": "code",
   "execution_count": 18,
   "id": "9f6855ba",
   "metadata": {},
   "outputs": [
    {
     "name": "stdout",
     "output_type": "stream",
     "text": [
      "\n",
      "           Fashion Mens Polos Casual Trendy T-shirt Joggers Short Sleeve Shirts Official - Navy\n",
      "          \n",
      "\n",
      "            KSh 750\n",
      "           \n",
      "\n",
      "           3.2 out of 5\n",
      "           \n",
      "\n",
      "\n"
     ]
    }
   ],
   "source": [
    "#connect to website\n",
    "URL ='https://www.jumia.co.ke/fashion-mens-polos-casual-trendy-t-shirt-joggers-short-sleeve-shirts-official-navy-50026817.html'\n",
    "headers= {\"User-Agent\": \"Mozilla/5.0 (Windows NT 10.0; Win64; x64) AppleWebKit/537.36 (KHTML, like Gecko) Chrome/114.0.0.0 Safari/537.36 Edg/114.0.1823.41\",\n",
    "        \"X-Amzn-Trace-Id\": \"Root=1-6482a052-0851f51d7fbb4a155dbeea78\"}\n",
    "page = requests.get(URL, headers=headers)\n",
    "soup1 = BeautifulSoup(page.content, \"html.parser\")\n",
    "soup2 = BeautifulSoup(soup1.prettify(),\"html.parser\")\n",
    "#print(soup2)\n",
    "title = soup2.find(class_=\"-fs20 -pts -pbxs\").get_text()\n",
    "price =soup2.find(class_=\"-b -ltr -tal -fs24\").get_text()\n",
    "ratings =soup2.find(class_=\"stars _s _al\").get_text()\n",
    "print (title)\n",
    "print(price)\n",
    "print(ratings)\n"
   ]
  },
  {
   "cell_type": "code",
   "execution_count": 19,
   "id": "4f4466e8",
   "metadata": {},
   "outputs": [
    {
     "name": "stdout",
     "output_type": "stream",
     "text": [
      "Fashion Mens Polos Casual Trendy T-shirt Joggers Short Sleeve Shirts Official - Navy\n",
      "750\n",
      "3.2\n"
     ]
    }
   ],
   "source": [
    "price= price.strip()[4:]\n",
    "title = title.strip()\n",
    "ratings = ratings.strip()[:3]\n",
    "\n",
    "print(title)\n",
    "print(price)\n",
    "print(ratings)"
   ]
  },
  {
   "cell_type": "code",
   "execution_count": 23,
   "id": "cce2262a",
   "metadata": {},
   "outputs": [
    {
     "name": "stdout",
     "output_type": "stream",
     "text": [
      "2023-06-09\n"
     ]
    }
   ],
   "source": [
    "import datetime\n",
    "today = datetime.date.today()\n",
    "print(today)"
   ]
  },
  {
   "cell_type": "code",
   "execution_count": 24,
   "id": "fc6de642",
   "metadata": {},
   "outputs": [],
   "source": [
    "import csv \n",
    "header = ['Title', 'Price', 'Ratings/5','Date']\n",
    "data= [title, price, ratings,today]\n",
    "#type(data)\n",
    "with open('JumiaWebScrapperDataset.CSV', 'w',newline='', encoding= \"UTF-8\") as f:\n",
    "    writer = csv.writer(f) \n",
    "    writer.writerow(header)\n",
    "    writer.writerow(data)\n"
   ]
  },
  {
   "cell_type": "code",
   "execution_count": 27,
   "id": "f7415caf",
   "metadata": {},
   "outputs": [
    {
     "name": "stdout",
     "output_type": "stream",
     "text": [
      "                                               Title  Price  Ratings/5  \\\n",
      "0  Fashion Mens Polos Casual Trendy T-shirt Jogge...    750        3.2   \n",
      "\n",
      "         Date  \n",
      "0  2023-06-09  \n"
     ]
    }
   ],
   "source": [
    "import pandas as pd \n",
    "df = pd.read_csv(r'C:\\Users\\cheruu\\JumiaWebScrapperDataset.CSV')\n",
    "print(df)"
   ]
  },
  {
   "cell_type": "code",
   "execution_count": null,
   "id": "b8e4fa13",
   "metadata": {},
   "outputs": [],
   "source": [
    "#appending data to csv\n",
    "\n",
    "with open('JumiaWebScrapperDataset.CSV', 'a+',newline='', encoding= \"UTF-8\") as f:\n",
    "    writer = csv.writer(f) \n",
    "    writer.writerow(data)"
   ]
  },
  {
   "cell_type": "code",
   "execution_count": 30,
   "id": "a15ebe49",
   "metadata": {},
   "outputs": [],
   "source": [
    "def check_price():\n",
    "    URL ='https://www.jumia.co.ke/fashion-mens-polos-casual-trendy-t-shirt-joggers-short-sleeve-shirts-official-navy-50026817.html'\n",
    "    headers= {\"User-Agent\": \"Mozilla/5.0 (Windows NT 10.0; Win64; x64) AppleWebKit/537.36 (KHTML, like Gecko) Chrome/114.0.0.0 Safari/537.36 Edg/114.0.1823.41\",\n",
    "        \"X-Amzn-Trace-Id\": \"Root=1-6482a052-0851f51d7fbb4a155dbeea78\"}\n",
    "    page = requests.get(URL, headers=headers)\n",
    "    soup1 = BeautifulSoup(page.content, \"html.parser\")\n",
    "    soup2 = BeautifulSoup(soup1.prettify(),\"html.parser\")\n",
    "    #print(soup2)\n",
    "    title = soup2.find(class_=\"-fs20 -pts -pbxs\").get_text()\n",
    "    price =soup2.find(class_=\"-b -ltr -tal -fs24\").get_text()\n",
    "    ratings =soup2.find(class_=\"stars _s _al\").get_text()\n",
    "    price= price.strip()[4:]\n",
    "    title = title.strip()\n",
    "    ratings = ratings.strip()[:3]\n",
    "    \n",
    "    import datetime\n",
    "    today = datetime.date.today()\n",
    "    \n",
    "    import csv \n",
    "    header = ['Title', 'Price', 'Ratings/5','Date']\n",
    "    data= [title, price, ratings,today]\n",
    "    #type(data)\n",
    "    with open('JumiaWebScrapperDataset.CSV', 'a+',newline='', encoding= \"UTF-8\") as f:\n",
    "        writer = csv.writer(f) \n",
    "        writer.writerow(data)\n",
    "        \n",
    "    if(price<250):\n",
    "        send_mail()\n",
    "        "
   ]
  },
  {
   "cell_type": "code",
   "execution_count": null,
   "id": "bf46a284",
   "metadata": {},
   "outputs": [],
   "source": [
    "while(True):\n",
    "    check_price()\n",
    "    time.sleep(86400)"
   ]
  },
  {
   "cell_type": "code",
   "execution_count": null,
   "id": "d632fef8",
   "metadata": {},
   "outputs": [],
   "source": [
    "def send_mail():\n",
    "    server smtplib.SMTP_SSL('smtp.gmail.com', 465)\n",
    "    server.ehlo()\n",
    "    server.login('yours@gmail.com','xxxxx')\n",
    "    \n",
    "    subject = \"the shirt you loved is below Ksh 200. This is your chance to buy\"\n",
    "    body = \"Chance to get your lovely shirt\"\n",
    "    \n",
    "    msg = f\"Subject:{subject}n\\n{body}\"\n",
    "    \n",
    "    server.sendmail(\n",
    "    'yours@gmailcom',\n",
    "        msg\n",
    "    )"
   ]
  }
 ],
 "metadata": {
  "kernelspec": {
   "display_name": "Python 3 (ipykernel)",
   "language": "python",
   "name": "python3"
  },
  "language_info": {
   "codemirror_mode": {
    "name": "ipython",
    "version": 3
   },
   "file_extension": ".py",
   "mimetype": "text/x-python",
   "name": "python",
   "nbconvert_exporter": "python",
   "pygments_lexer": "ipython3",
   "version": "3.10.9"
  }
 },
 "nbformat": 4,
 "nbformat_minor": 5
}
